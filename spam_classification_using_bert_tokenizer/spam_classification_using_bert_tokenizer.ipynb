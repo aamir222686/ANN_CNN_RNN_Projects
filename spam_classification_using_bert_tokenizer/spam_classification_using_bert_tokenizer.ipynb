{
 "cells": [
  {
   "cell_type": "markdown",
   "metadata": {},
   "source": [
    "# Spam Classification Using Bert Tokenizer\n",
    "### Aamir Hussain\n",
    "\n",
    "- The SMS Spam Collection is a set of SMS tagged messages that have been collected for SMS Spam research. It contains one set of SMS messages in English of 5,574 messages, tagged acording being ham (legitimate) or spam.\n",
    "\n",
    "- The files contain one message per line. Each line is composed by two columns: v1 contains the label (ham or spam) and v2 contains the raw text."
   ]
  },
  {
   "cell_type": "markdown",
   "metadata": {},
   "source": [
    "# Imports & Data Preparation"
   ]
  },
  {
   "cell_type": "code",
   "execution_count": 1,
   "metadata": {},
   "outputs": [
    {
     "name": "stdout",
     "output_type": "stream",
     "text": [
      "tensorflow_version :  2.2.0\n"
     ]
    }
   ],
   "source": [
    "#pip install bert-for-tf2\n",
    "#pip install sentencepiece\n",
    "\n",
    "import pandas as pd\n",
    "import numpy as np\n",
    "import math\n",
    "import re\n",
    "import random\n",
    "import tensorflow as tf\n",
    "import tensorflow_hub as hub\n",
    "from tensorflow.keras import layers\n",
    "import bert\n",
    "\n",
    "print(\"tensorflow_version : \", tf.__version__)"
   ]
  },
  {
   "cell_type": "code",
   "execution_count": 2,
   "metadata": {},
   "outputs": [],
   "source": [
    "df = pd.read_csv('emails.csv')"
   ]
  },
  {
   "cell_type": "code",
   "execution_count": 76,
   "metadata": {},
   "outputs": [
    {
     "data": {
      "text/html": [
       "<div>\n",
       "<style scoped>\n",
       "    .dataframe tbody tr th:only-of-type {\n",
       "        vertical-align: middle;\n",
       "    }\n",
       "\n",
       "    .dataframe tbody tr th {\n",
       "        vertical-align: top;\n",
       "    }\n",
       "\n",
       "    .dataframe thead th {\n",
       "        text-align: right;\n",
       "    }\n",
       "</style>\n",
       "<table border=\"1\" class=\"dataframe\">\n",
       "  <thead>\n",
       "    <tr style=\"text-align: right;\">\n",
       "      <th></th>\n",
       "      <th>text</th>\n",
       "      <th>spam</th>\n",
       "    </tr>\n",
       "  </thead>\n",
       "  <tbody>\n",
       "    <tr>\n",
       "      <th>5723</th>\n",
       "      <td>Subject: re : research and development charges...</td>\n",
       "      <td>0</td>\n",
       "    </tr>\n",
       "    <tr>\n",
       "      <th>5724</th>\n",
       "      <td>Subject: re : receipts from visit  jim ,  than...</td>\n",
       "      <td>0</td>\n",
       "    </tr>\n",
       "    <tr>\n",
       "      <th>5725</th>\n",
       "      <td>Subject: re : enron case study update  wow ! a...</td>\n",
       "      <td>0</td>\n",
       "    </tr>\n",
       "    <tr>\n",
       "      <th>5726</th>\n",
       "      <td>Subject: re : interest  david ,  please , call...</td>\n",
       "      <td>0</td>\n",
       "    </tr>\n",
       "    <tr>\n",
       "      <th>5727</th>\n",
       "      <td>Subject: news : aurora 5 . 2 update  aurora ve...</td>\n",
       "      <td>0</td>\n",
       "    </tr>\n",
       "  </tbody>\n",
       "</table>\n",
       "</div>"
      ],
      "text/plain": [
       "                                                   text  spam\n",
       "5723  Subject: re : research and development charges...     0\n",
       "5724  Subject: re : receipts from visit  jim ,  than...     0\n",
       "5725  Subject: re : enron case study update  wow ! a...     0\n",
       "5726  Subject: re : interest  david ,  please , call...     0\n",
       "5727  Subject: news : aurora 5 . 2 update  aurora ve...     0"
      ]
     },
     "execution_count": 76,
     "metadata": {},
     "output_type": "execute_result"
    }
   ],
   "source": [
    "df.tail()"
   ]
  },
  {
   "cell_type": "code",
   "execution_count": 4,
   "metadata": {},
   "outputs": [],
   "source": [
    "def clean_messages(message):\n",
    "    message = re.sub(r\"[^a-zA-Z0-1.,!?']\", \" \", message)\n",
    "    return message"
   ]
  },
  {
   "cell_type": "code",
   "execution_count": 5,
   "metadata": {},
   "outputs": [],
   "source": [
    "data_clean = [clean_messages(message) for message in df.text]"
   ]
  },
  {
   "cell_type": "markdown",
   "metadata": {},
   "source": [
    "# Tokenization"
   ]
  },
  {
   "cell_type": "code",
   "execution_count": 6,
   "metadata": {},
   "outputs": [],
   "source": [
    "FullTokenizer = bert.bert_tokenization.FullTokenizer\n",
    "bert_layer = hub.KerasLayer('https://tfhub.dev/tensorflow/bert_en_uncased_L-12_H-768_A-12/2', trainable=False)\n",
    "vocab_file = bert_layer.resolved_object.vocab_file.asset_path.numpy()\n",
    "do_lower_case = bert_layer.resolved_object.do_lower_case.numpy()\n",
    "tokenizer = FullTokenizer(vocab_file, do_lower_case)"
   ]
  },
  {
   "cell_type": "code",
   "execution_count": 7,
   "metadata": {},
   "outputs": [],
   "source": [
    "def encode_sentence(sent):\n",
    "    return tokenizer.convert_tokens_to_ids(tokenizer.tokenize(sent))"
   ]
  },
  {
   "cell_type": "code",
   "execution_count": 9,
   "metadata": {},
   "outputs": [],
   "source": [
    "data_inputs = [encode_sentence(sentence) for sentence in data_clean]\n",
    "data_labels = df.spam.values"
   ]
  },
  {
   "cell_type": "markdown",
   "metadata": {},
   "source": [
    "## Dataset Creation"
   ]
  },
  {
   "cell_type": "markdown",
   "metadata": {},
   "source": [
    "We will create padded batches(so we pad sentences for each batch independently), this way we add the min of padding tokens possible. we sort sentences by length, apply padded batches and then shuffle."
   ]
  },
  {
   "cell_type": "code",
   "execution_count": 10,
   "metadata": {},
   "outputs": [],
   "source": [
    "data_with_len = [[sent, data_labels[i], len(sent)] for i , sent in enumerate(data_inputs)]\n",
    "random.shuffle(data_with_len)\n",
    "data_with_len.sort(key=lambda x: x[2])\n",
    "sorted_all = [(sent_lab[0], sent_lab[1]) for sent_lab in data_with_len if sent_lab[2] > 2] "
   ]
  },
  {
   "cell_type": "code",
   "execution_count": 11,
   "metadata": {},
   "outputs": [],
   "source": [
    "all_dataset = tf.data.Dataset.from_generator(lambda: sorted_all, output_types=(tf.int32, tf.int32))"
   ]
  },
  {
   "cell_type": "code",
   "execution_count": 12,
   "metadata": {},
   "outputs": [
    {
     "data": {
      "text/plain": [
       "(<tf.Tensor: shape=(3,), dtype=int32, numpy=array([ 3395,  1042, 10139])>,\n",
       " <tf.Tensor: shape=(), dtype=int32, numpy=0>)"
      ]
     },
     "execution_count": 12,
     "metadata": {},
     "output_type": "execute_result"
    }
   ],
   "source": [
    "next(iter(all_dataset))"
   ]
  },
  {
   "cell_type": "code",
   "execution_count": 13,
   "metadata": {},
   "outputs": [],
   "source": [
    "BATCH_SIZE = 32\n",
    "all_batched = all_dataset.padded_batch(BATCH_SIZE, padded_shapes=((None, ), ()))"
   ]
  },
  {
   "cell_type": "code",
   "execution_count": 14,
   "metadata": {},
   "outputs": [
    {
     "data": {
      "text/plain": [
       "(<tf.Tensor: shape=(32, 14), dtype=int32, numpy=\n",
       " array([[ 3395,  1042, 10139,     0,     0,     0,     0,     0,     0,\n",
       "             0,     0,     0,     0,     0],\n",
       "        [ 3395,  2023,  7064,  3449,  5162,     0,     0,     0,     0,\n",
       "             0,     0,     0,     0,     0],\n",
       "        [ 3395,  1012, 10147,  2546,  1012,     0,     0,     0,     0,\n",
       "             0,     0,     0,     0,     0],\n",
       "        [ 3395,  6378,  4901, 17704,  3363,     0,     0,     0,     0,\n",
       "             0,     0,     0,     0,     0],\n",
       "        [ 3395, 23156,  2092, 10849,  1012,     0,     0,     0,     0,\n",
       "             0,     0,     0,     0,     0],\n",
       "        [ 3395,  2128,  2470, 16169,  4067,  2017,     0,     0,     0,\n",
       "             0,     0,     0,     0,     0],\n",
       "        [ 3395,  9060,  9610, 13687,  3981,  7632,     0,     0,     0,\n",
       "             0,     0,     0,     0,     0],\n",
       "        [ 3395,  2128, 10385,  4067,  2017,  1012,     0,     0,     0,\n",
       "             0,     0,     0,     0,     0],\n",
       "        [ 3395, 29321, 19085,  4372,  8017, 20511,     0,     0,     0,\n",
       "             0,     0,     0,     0,     0],\n",
       "        [ 3395, 23156,  2006,  2115,  4712,  1012, 10223,     0,     0,\n",
       "             0,     0,     0,     0,     0],\n",
       "        [ 3395,  2115,  6226,  2003,  7303,  4067,  2017,     0,     0,\n",
       "             0,     0,     0,     0,     0],\n",
       "        [ 3395,  2128, 11186,  2005,  2393,  4283, 12159,  1012,     0,\n",
       "             0,     0,     0,     0,     0],\n",
       "        [ 3395, 19167,  1005,  1055,  8312,  2182,  2009,  2003,   999,\n",
       "             0,     0,     0,     0,     0],\n",
       "        [ 3395, 23156,   999, 23156,   999,  2006,  2115,  4712,   999,\n",
       "             0,     0,     0,     0,     0],\n",
       "        [ 3395,  3036,  9499, 12210,  2115,  2120,  4923,  2586,  2592,\n",
       "             0,     0,     0,     0,     0],\n",
       "        [ 3395,  2128,  3617,  2015,  2116,  4283,  1012, 22358,  1012,\n",
       "             0,     0,     0,     0,     0],\n",
       "        [ 3395, 23156, 23156,  2006,  2115,  4712,  2000,  9108,   999,\n",
       "          5070,     0,     0,     0,     0],\n",
       "        [ 3395,  7172,  8312,  1045,  2794, 23529,  1005,  1055,  3325,\n",
       "          1012,     0,     0,     0,     0],\n",
       "        [ 3395,  2009, 26455,  5649,  6887, 20806,  2213,  1010,  1042,\n",
       "         10139, 12159,     0,     0,     0],\n",
       "        [ 3395, 12159,  1010, 23156,  2006,  2115,  4712,   999, 12362,\n",
       "          1010, 18699,     0,     0,     0],\n",
       "        [ 3395,  2128, 14764,  4283,  1010,  2061,  2172,  2005,  2115,\n",
       "          2490,   999,     0,     0,     0],\n",
       "        [ 3395, 13970, 12269, 23156,  2006,  2115,  4712,  2092, 10849,\n",
       "           999,   999,  7004,     0,     0],\n",
       "        [ 3395,  5785,  4372,  4948,  5446, 18014,  2186,  2012, 19646,\n",
       "          1012,  1044, 21246,     0,     0],\n",
       "        [ 3395,  8312,  2577,  1010,  2023,  2003,  1996,  8312,  1045,\n",
       "          5763,  1012, 12159,     0,     0],\n",
       "        [ 3395,  2128,  2609,  6105,  2005,  2373,  2088,  1045,  9530,\n",
       "         10841,  2099,  1012,     0,     0],\n",
       "        [ 3395, 20786,  8833,  2378,  1047, 18824,  2389, 20786,  3006,\n",
       "         16748, 23194,   999,     0,     0],\n",
       "        [ 3395,  3784,  2444,  6167, 27058,  3366,  2005,  2017,  2156,\n",
       "          2033,  6248, 11562,  2182,     0],\n",
       "        [ 3395, 23156,   999,   999,   999, 12159, 23156,  2006,  2115,\n",
       "          4712,   999,   999,  6437,     0],\n",
       "        [ 3395,  2128,  6209, 14806,  2013,  6128,  3612,  6209,  1010,\n",
       "         13921,  2140,  1012,  9986,     0],\n",
       "        [ 3395, 26478,  8609,  2015, 23156,  2006,  2115,  4712,   999,\n",
       "          2008,  2003,  2428,  2204,  1012],\n",
       "        [ 3395,  4712, 12159,  1010, 26478,  8609,  2015,  2006,  2115,\n",
       "          4712,  2000,  9108,  1012,  8788],\n",
       "        [ 3395, 11703,  3565,  5095,  5958,  1998,  5095,  6577,  3531,\n",
       "          2156,  4987,  1012,  4283, 28360]])>,\n",
       " <tf.Tensor: shape=(32,), dtype=int32, numpy=\n",
       " array([0, 0, 1, 0, 0, 0, 0, 0, 1, 0, 0, 0, 0, 0, 1, 0, 0, 0, 0, 0, 0, 0,\n",
       "        0, 0, 0, 0, 1, 0, 0, 0, 0, 0])>)"
      ]
     },
     "execution_count": 14,
     "metadata": {},
     "output_type": "execute_result"
    }
   ],
   "source": [
    "next(iter(all_batched))"
   ]
  },
  {
   "cell_type": "code",
   "execution_count": 15,
   "metadata": {},
   "outputs": [],
   "source": [
    "NB_BATCHES = math.ceil(len(sorted_all) / BATCH_SIZE)\n",
    "NB_BATCHES_TEST = NB_BATCHES // 10\n",
    "all_batched.shuffle(NB_BATCHES)\n",
    "test_dataset = all_batched.take(NB_BATCHES_TEST)\n",
    "train_dataset = all_batched.skip(NB_BATCHES_TEST)"
   ]
  },
  {
   "cell_type": "markdown",
   "metadata": {},
   "source": [
    "# Model Building"
   ]
  },
  {
   "cell_type": "code",
   "execution_count": 53,
   "metadata": {},
   "outputs": [],
   "source": [
    "VOCAB_SIZE = len(tokenizer.vocab)\n",
    "EMB_DIM = 200\n",
    "NB_FILTERS = 100\n",
    "FFN_UNITS = 256\n",
    "NB_CLASSES = 2\n",
    "DROPOUT_RATE = 0.2\n",
    "NB_EPOCHS = 10"
   ]
  },
  {
   "cell_type": "code",
   "execution_count": 54,
   "metadata": {},
   "outputs": [],
   "source": [
    "class DCNN(tf.keras.Model):\n",
    "    \n",
    "    def __init__(self, vocab_size, emb_dim=128, nb_filters=50, FFN_units=512, nb_classes=2, dropout_rate=0.1, training=False, name=\"dcnn\"):\n",
    "        \n",
    "        super(DCNN, self).__init__(name=name)\n",
    "        \n",
    "        self.embedding = layers.Embedding(vocab_size, emb_dim)\n",
    "        self.bigram = layers.Conv1D(filters=nb_filters, kernel_size=2, padding=\"valid\", activation=\"relu\")\n",
    "        self.trigram = layers.Conv1D(filters=nb_filters, kernel_size=3, padding=\"valid\", activation=\"relu\")\n",
    "        self.fourgram = layers.Conv1D(filters=nb_filters, kernel_size=4, padding=\"valid\", activation=\"relu\")\n",
    "        self.pool = layers.GlobalMaxPool1D()\n",
    "        \n",
    "        self.dense_1 = layers.Dense(units=FFN_units, activation=\"relu\")\n",
    "        self.dropout = layers.Dropout(rate=dropout_rate)\n",
    "        if nb_classes == 2:\n",
    "            self.last_dense = layers.Dense(units=1, activation=\"sigmoid\")\n",
    "        else:\n",
    "            self.last_dense = layers.Dense(units=nb_classes, activation=\"softmax\")\n",
    "    \n",
    "    def call(self, inputs, training):\n",
    "        x = self.embedding(inputs)\n",
    "        x_1 = self.bigram(x) # batch_size, nb_filters, seq_len-1)\n",
    "        x_1 = self.pool(x_1) # (batch_size, nb_filters)\n",
    "        x_2 = self.trigram(x) # batch_size, nb_filters, seq_len-2)\n",
    "        x_2 = self.pool(x_2) # (batch_size, nb_filters)\n",
    "        x_3 = self.fourgram(x) # batch_size, nb_filters, seq_len-3)\n",
    "        x_3 = self.pool(x_3) # (batch_size, nb_filters)\n",
    "        \n",
    "        merged = tf.concat([x_1, x_2, x_3], axis=-1) # (batch_size, 3 * nb_filters)\n",
    "        merged = self.dense_1(merged)\n",
    "        merged = self.dropout(merged, training)\n",
    "        output = self.last_dense(merged)\n",
    "        \n",
    "        return output"
   ]
  },
  {
   "cell_type": "code",
   "execution_count": 55,
   "metadata": {},
   "outputs": [],
   "source": [
    "Dcnn =  DCNN(vocab_size=VOCAB_SIZE, emb_dim=EMB_DIM, nb_filters=NB_FILTERS, \n",
    "             FFN_units=FFN_UNITS, nb_classes=NB_CLASSES, dropout_rate=DROPOUT_RATE)"
   ]
  },
  {
   "cell_type": "code",
   "execution_count": 56,
   "metadata": {},
   "outputs": [
    {
     "name": "stdout",
     "output_type": "stream",
     "text": [
      "Epoch 1/10\n",
      "162/162 [==============================] - 29s 181ms/step - loss: 0.1778 - accuracy: 0.9178 - val_loss: 0.3542 - val_accuracy: 0.8529\n",
      "Epoch 2/10\n",
      "162/162 [==============================] - 34s 209ms/step - loss: 0.0168 - accuracy: 0.9952 - val_loss: 0.1741 - val_accuracy: 0.9375\n",
      "Epoch 3/10\n",
      "162/162 [==============================] - 34s 212ms/step - loss: 0.0016 - accuracy: 0.9998 - val_loss: 0.2073 - val_accuracy: 0.9228\n",
      "Epoch 4/10\n",
      "162/162 [==============================] - 42s 257ms/step - loss: 3.8696e-04 - accuracy: 1.0000 - val_loss: 0.1694 - val_accuracy: 0.9430\n",
      "Epoch 5/10\n",
      "162/162 [==============================] - 41s 256ms/step - loss: 1.4672e-04 - accuracy: 1.0000 - val_loss: 0.1500 - val_accuracy: 0.9467\n",
      "Epoch 6/10\n",
      "162/162 [==============================] - 38s 232ms/step - loss: 8.5137e-05 - accuracy: 1.0000 - val_loss: 0.1487 - val_accuracy: 0.9449\n",
      "Epoch 7/10\n",
      "162/162 [==============================] - 52s 320ms/step - loss: 5.6116e-05 - accuracy: 1.0000 - val_loss: 0.1544 - val_accuracy: 0.9449\n",
      "Epoch 8/10\n",
      "162/162 [==============================] - 79s 490ms/step - loss: 4.3621e-05 - accuracy: 1.0000 - val_loss: 0.1523 - val_accuracy: 0.9467\n",
      "Epoch 9/10\n",
      "162/162 [==============================] - 52s 319ms/step - loss: 3.1292e-05 - accuracy: 1.0000 - val_loss: 0.1552 - val_accuracy: 0.9467\n",
      "Epoch 10/10\n",
      "162/162 [==============================] - 39s 239ms/step - loss: 2.1887e-05 - accuracy: 1.0000 - val_loss: 0.1554 - val_accuracy: 0.9467\n"
     ]
    }
   ],
   "source": [
    "Dcnn.compile(optimizer='adam', loss='binary_crossentropy', metrics=['accuracy'])\n",
    "r = Dcnn.fit(train_dataset, epochs=NB_EPOCHS, validation_data=test_dataset)"
   ]
  },
  {
   "cell_type": "markdown",
   "metadata": {},
   "source": [
    "# Evaluate Model"
   ]
  },
  {
   "cell_type": "code",
   "execution_count": 57,
   "metadata": {},
   "outputs": [
    {
     "name": "stdout",
     "output_type": "stream",
     "text": [
      "Test Accuracy : 94.6691 %\n"
     ]
    }
   ],
   "source": [
    "score = Dcnn.evaluate(test_dataset,verbose=0)\n",
    "print('Test Accuracy : {:.4f} %'.format(score[1]  * 100))"
   ]
  },
  {
   "cell_type": "code",
   "execution_count": 59,
   "metadata": {},
   "outputs": [
    {
     "data": {
      "text/plain": [
       "<matplotlib.legend.Legend at 0x21688d155c8>"
      ]
     },
     "execution_count": 59,
     "metadata": {},
     "output_type": "execute_result"
    },
    {
     "data": {
      "image/png": "[encoded data removed]",
      "text/plain": [
       "<Figure size 432x288 with 1 Axes>"
      ]
     },
     "metadata": {
      "needs_background": "light"
     },
     "output_type": "display_data"
    }
   ],
   "source": [
    "import matplotlib.pyplot as plt\n",
    "plt.title('Loss / Epoch')\n",
    "plt.plot(r.history['loss'], label='Train Loss')\n",
    "plt.plot(r.history['val_loss'], label='Validation Loss')\n",
    "plt.legend()"
   ]
  },
  {
   "cell_type": "code",
   "execution_count": 60,
   "metadata": {},
   "outputs": [
    {
     "data": {
      "text/plain": [
       "<matplotlib.legend.Legend at 0x216a77057c8>"
      ]
     },
     "execution_count": 60,
     "metadata": {},
     "output_type": "execute_result"
    },
    {
     "data": {
      "image/png": "[encoded data removed]",
      "text/plain": [
       "<Figure size 432x288 with 1 Axes>"
      ]
     },
     "metadata": {
      "needs_background": "light"
     },
     "output_type": "display_data"
    }
   ],
   "source": [
    "plt.title('Accuracy / Epoch')\n",
    "plt.plot(r.history['accuracy'], label='Train accuracy')\n",
    "plt.plot(r.history['val_accuracy'], label='Validation accuracy')\n",
    "plt.legend()"
   ]
  },
  {
   "cell_type": "markdown",
   "metadata": {},
   "source": [
    "# Making Predictions"
   ]
  },
  {
   "cell_type": "code",
   "execution_count": 83,
   "metadata": {},
   "outputs": [],
   "source": [
    "def get_prediction(sentence):\n",
    "    try:\n",
    "        clean_mess = clean_messages(sentence)\n",
    "        tokens = encode_sentence(clean_mess)\n",
    "        inputs = tf.expand_dims(tokens, 0)\n",
    "\n",
    "        output = Dcnn(inputs, training=False)\n",
    "\n",
    "        sentiment = math.floor(output*2)\n",
    "\n",
    "    \n",
    "        if sentiment == 0:\n",
    "            print(\"Ouput of the model: {}\\nPredicted result: not spam.\".format(\n",
    "                output))\n",
    "        elif sentiment == 1:\n",
    "            print(\"Ouput of the model: {}\\nPredicted result: spam.\".format(\n",
    "                output))\n",
    "    except:\n",
    "        return get_prediction(sentence + '.....')"
   ]
  },
  {
   "cell_type": "code",
   "execution_count": 88,
   "metadata": {},
   "outputs": [
    {
     "name": "stdout",
     "output_type": "stream",
     "text": [
      "Ouput of the model: [[0.169834]]\n",
      "Predicted result: not spam.\n"
     ]
    }
   ],
   "source": [
    "get_prediction('Subject: aamir hussain - interview')"
   ]
  }
 ],
 "metadata": {
  "kernelspec": {
   "display_name": "Python 3.7",
   "language": "python",
   "name": "python3"
  },
  "language_info": {
   "codemirror_mode": {
    "name": "ipython",
    "version": 3
   },
   "file_extension": ".py",
   "mimetype": "text/x-python",
   "name": "python",
   "nbconvert_exporter": "python",
   "pygments_lexer": "ipython3",
   "version": "3.7.6"
  }
 },
 "nbformat": 4,
 "nbformat_minor": 4
}
